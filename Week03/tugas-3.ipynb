{
 "nbformat": 4,
 "nbformat_minor": 4,
 "metadata": {
  "kernelspec": {
   "display_name": "Python 3",
   "language": "python",
   "name": "python3"
  },
  "language_info": {
   "codemirror_mode": {
    "name": "ipython",
    "version": 3
   },
   "file_extension": ".py",
   "mimetype": "text/x-python",
   "name": "python",
   "nbconvert_exporter": "python",
   "pygments_lexer": "ipython3",
   "version": "3.11.11"
  },
  "kaggle": {
   "accelerator": "gpu",
   "dataSources": [
    {
     "sourceId": 242592,
     "sourceType": "datasetVersion",
     "datasetId": 102285
    }
   ],
   "dockerImageVersionId": 31041,
   "isInternetEnabled": true,
   "language": "python",
   "sourceType": "notebook",
   "isGpuEnabled": true
  }
 },
 "cells": [
  {
   "metadata": {},
   "cell_type": "markdown",
   "source": "## Import Library"
  },
  {
   "cell_type": "code",
   "source": [
    "import torch\n",
    "import torch.nn as nn\n",
    "import torch.nn.functional as F\n",
    "from torch.utils.data import DataLoader, Dataset\n",
    "from torchvision import datasets, transforms\n",
    "import numpy as np\n",
    "import matplotlib.pyplot as plt\n",
    "import seaborn as sns\n",
    "from sklearn.metrics import confusion_matrix\n",
    "from tqdm.notebook import tqdm"
   ],
   "metadata": {
    "ExecuteTime": {
     "end_time": "2025-05-20T13:34:22.493121Z",
     "start_time": "2025-05-20T13:33:56.203455Z"
    }
   },
   "outputs": [],
   "execution_count": 1
  },
  {
   "metadata": {},
   "cell_type": "markdown",
   "source": "## Konfigurasi dan Hyperparameter"
  },
  {
   "cell_type": "code",
   "source": [
    "BATCH_SIZE = 64\n",
    "LEARNING_RATE = 0.001\n",
    "NUM_EPOCHS = 15\n",
    "DEVICE = torch.device(\"cuda\" if torch.cuda.is_available() else \"cpu\")\n",
    "print(f\"Menggunakan device: {DEVICE}\")\n",
    "\n",
    "MEAN = 0.1307\n",
    "STD = 0.3081"
   ],
   "metadata": {
    "ExecuteTime": {
     "end_time": "2025-05-20T13:34:26.095959Z",
     "start_time": "2025-05-20T13:34:26.067038Z"
    }
   },
   "outputs": [
    {
     "name": "stdout",
     "output_type": "stream",
     "text": [
      "Menggunakan device: cuda\n"
     ]
    }
   ],
   "execution_count": 2
  },
  {
   "metadata": {},
   "cell_type": "markdown",
   "source": "## Preprocessing Data"
  },
  {
   "cell_type": "code",
   "source": [
    "transform = transforms.Compose([\n",
    "    transforms.ToTensor(),\n",
    "    transforms.Normalize((MEAN,), (STD,))\n",
    "])\n",
    "\n",
    "train_dataset = datasets.MNIST('./data', train=True, download=True, transform=transform)\n",
    "test_dataset = datasets.MNIST('./data', train=False, download=True, transform=transform)\n",
    "\n",
    "train_loader = DataLoader(train_dataset, batch_size=BATCH_SIZE, shuffle=True, num_workers=2, pin_memory=True)\n",
    "test_loader = DataLoader(test_dataset, batch_size=BATCH_SIZE, shuffle=False, num_workers=2, pin_memory=True)\n",
    "\n",
    "print(f\"Jumlah sampel pelatihan: {len(train_dataset)}\")\n",
    "print(f\"Jumlah sampel pengujian: {len(test_dataset)}\")\n",
    "print(f\"Jumlah batch pelatihan: {len(train_loader)}\")\n",
    "print(f\"Jumlah batch pengujian: {len(test_loader)}\")"
   ],
   "metadata": {
    "ExecuteTime": {
     "end_time": "2025-05-20T13:34:40.588242Z",
     "start_time": "2025-05-20T13:34:40.491584Z"
    }
   },
   "outputs": [
    {
     "name": "stdout",
     "output_type": "stream",
     "text": [
      "Jumlah sampel pelatihan: 60000\n",
      "Jumlah sampel pengujian: 10000\n",
      "Jumlah batch pelatihan: 938\n",
      "Jumlah batch pengujian: 157\n"
     ]
    }
   ],
   "execution_count": 3
  },
  {
   "metadata": {},
   "cell_type": "markdown",
   "source": "## Arsitektur Model CNN"
  },
  {
   "cell_type": "code",
   "source": [
    "class SimpleCNN(nn.Module):\n",
    "    def __init__(self, num_classes=10):\n",
    "        super(SimpleCNN, self).__init__()\n",
    "\n",
    "        self.conv1 = nn.Conv2d(in_channels=1, out_channels=32, kernel_size=3, stride=1, padding=1)\n",
    "        self.bn1 = nn.BatchNorm2d(32)\n",
    "        self.pool1 = nn.MaxPool2d(kernel_size=2, stride=2)\n",
    "        self.dropout1 = nn.Dropout(0.25)\n",
    "\n",
    "        self.conv2 = nn.Conv2d(in_channels=32, out_channels=64, kernel_size=3, stride=1, padding=1)\n",
    "        self.bn2 = nn.BatchNorm2d(64) # Menormalisasi output dari conv2\n",
    "        self.pool2 = nn.MaxPool2d(kernel_size=2, stride=2)\n",
    "        self.dropout2 = nn.Dropout(0.25)\n",
    "\n",
    "        self.fc1 = nn.Linear(64 * 7 * 7, 128)\n",
    "        self.dropout3 = nn.Dropout(0.5)\n",
    "\n",
    "        self.fc2 = nn.Linear(128, num_classes)\n",
    "\n",
    "    def forward(self, x):\n",
    "        x = self.conv1(x)\n",
    "        x = self.bn1(x)\n",
    "        x = F.relu(x)\n",
    "        x = self.pool1(x)\n",
    "        x = self.dropout1(x)\n",
    "\n",
    "        # Block 2\n",
    "        x = self.conv2(x)\n",
    "        x = self.bn2(x)\n",
    "        x = F.relu(x)\n",
    "        x = self.pool2(x)\n",
    "        x = self.dropout2(x)\n",
    "\n",
    "        x = x.view(-1, 64 * 7 * 7)\n",
    "\n",
    "        x = self.fc1(x)\n",
    "        x = F.relu(x)\n",
    "        x = self.dropout3(x)\n",
    "\n",
    "        x = self.fc2(x)\n",
    "        return x\n",
    "\n",
    "model = SimpleCNN(num_classes=10).to(DEVICE)\n",
    "print(model)"
   ],
   "metadata": {
    "ExecuteTime": {
     "end_time": "2025-05-20T13:34:44.672834Z",
     "start_time": "2025-05-20T13:34:44.585513Z"
    }
   },
   "outputs": [
    {
     "name": "stdout",
     "output_type": "stream",
     "text": [
      "SimpleCNN(\n",
      "  (conv1): Conv2d(1, 32, kernel_size=(3, 3), stride=(1, 1), padding=(1, 1))\n",
      "  (bn1): BatchNorm2d(32, eps=1e-05, momentum=0.1, affine=True, track_running_stats=True)\n",
      "  (pool1): MaxPool2d(kernel_size=2, stride=2, padding=0, dilation=1, ceil_mode=False)\n",
      "  (dropout1): Dropout(p=0.25, inplace=False)\n",
      "  (conv2): Conv2d(32, 64, kernel_size=(3, 3), stride=(1, 1), padding=(1, 1))\n",
      "  (bn2): BatchNorm2d(64, eps=1e-05, momentum=0.1, affine=True, track_running_stats=True)\n",
      "  (pool2): MaxPool2d(kernel_size=2, stride=2, padding=0, dilation=1, ceil_mode=False)\n",
      "  (dropout2): Dropout(p=0.25, inplace=False)\n",
      "  (fc1): Linear(in_features=3136, out_features=128, bias=True)\n",
      "  (dropout3): Dropout(p=0.5, inplace=False)\n",
      "  (fc2): Linear(in_features=128, out_features=10, bias=True)\n",
      ")\n"
     ]
    }
   ],
   "execution_count": 4
  },
  {
   "metadata": {},
   "cell_type": "markdown",
   "source": "## Fungsi Training dan Evaluation"
  },
  {
   "cell_type": "code",
   "source": [
    "def train_epoch(model, train_loader, optimizer, criterion, device):\n",
    "    model.train()\n",
    "    running_loss = 0.0\n",
    "    correct_predictions = 0\n",
    "    total_samples = 0\n",
    "\n",
    "    for batch_idx, (data, target) in enumerate(tqdm(train_loader, desc=f\"Training\")):\n",
    "        data, target = data.to(device), target.to(device)\n",
    "\n",
    "        optimizer.zero_grad()\n",
    "        output = model(data)\n",
    "        loss = criterion(output, target)\n",
    "        loss.backward()\n",
    "        optimizer.step()\n",
    "\n",
    "        running_loss += loss.item() * data.size(0)\n",
    "        _, predicted = torch.max(output.data, 1)\n",
    "        total_samples += target.size(0)\n",
    "        correct_predictions += (predicted == target).sum().item()\n",
    "\n",
    "    epoch_loss = running_loss / total_samples\n",
    "    epoch_accuracy = correct_predictions / total_samples\n",
    "    return epoch_loss, epoch_accuracy\n",
    "\n",
    "def evaluate_epoch(model, loader, criterion, device):\n",
    "    model.eval()\n",
    "    running_loss = 0.0\n",
    "    correct_predictions = 0\n",
    "    total_samples = 0\n",
    "    all_preds = []\n",
    "    all_targets = []\n",
    "\n",
    "    with torch.no_grad():\n",
    "        for data, target in tqdm(loader, desc=f\"Evaluating\"):\n",
    "            data, target = data.to(device), target.to(device)\n",
    "            output = model(data)\n",
    "            loss = criterion(output, target)\n",
    "\n",
    "            running_loss += loss.item() * data.size(0)\n",
    "            _, predicted = torch.max(output.data, 1)\n",
    "            total_samples += target.size(0)\n",
    "            correct_predictions += (predicted == target).sum().item()\n",
    "\n",
    "            all_preds.extend(predicted.cpu().numpy())\n",
    "            all_targets.extend(target.cpu().numpy())\n",
    "\n",
    "    epoch_loss = running_loss / total_samples\n",
    "    epoch_accuracy = correct_predictions / total_samples\n",
    "    return epoch_loss, epoch_accuracy, np.array(all_preds), np.array(all_targets)"
   ],
   "metadata": {
    "ExecuteTime": {
     "end_time": "2025-05-20T13:34:49.257261Z",
     "start_time": "2025-05-20T13:34:49.246706Z"
    }
   },
   "outputs": [],
   "execution_count": 5
  },
  {
   "metadata": {},
   "cell_type": "markdown",
   "source": "## Training Loop Utama"
  },
  {
   "cell_type": "code",
   "source": [
    "criterion = nn.CrossEntropyLoss()\n",
    "optimizer = torch.optim.Adam(model.parameters(), lr=LEARNING_RATE)\n",
    "\n",
    "train_losses = []\n",
    "train_accuracies = []\n",
    "val_losses = []\n",
    "val_accuracies = []\n",
    "\n",
    "print(\"Memulai pelatihan...\")\n",
    "for epoch in range(1, NUM_EPOCHS + 1):\n",
    "    print(f\"\\n--- Epoch {epoch}/{NUM_EPOCHS} ---\")\n",
    "    train_loss, train_acc = train_epoch(model, train_loader, optimizer, criterion, DEVICE)\n",
    "    val_loss, val_acc, _, _ = evaluate_epoch(model, test_loader, criterion, DEVICE)\n",
    "\n",
    "    train_losses.append(train_loss)\n",
    "    train_accuracies.append(train_acc)\n",
    "    val_losses.append(val_loss)\n",
    "    val_accuracies.append(val_acc)\n",
    "\n",
    "    print(f\"Epoch {epoch}: Train Loss = {train_loss:.4f}, Train Acc = {train_acc:.4f} | \"\n",
    "          f\"Val Loss = {val_loss:.4f}, Val Acc = {val_acc:.4f}\")\n",
    "\n",
    "print(\"\\nPelatihan selesai!\")"
   ],
   "metadata": {
    "ExecuteTime": {
     "end_time": "2025-05-20T13:39:01.396919Z",
     "start_time": "2025-05-20T13:34:52.626119Z"
    }
   },
   "outputs": [
    {
     "name": "stdout",
     "output_type": "stream",
     "text": [
      "Memulai pelatihan...\n",
      "\n",
      "--- Epoch 1/15 ---\n"
     ]
    },
    {
     "data": {
      "text/plain": [
       "Training:   0%|          | 0/938 [00:00<?, ?it/s]"
      ],
      "application/vnd.jupyter.widget-view+json": {
       "version_major": 2,
       "version_minor": 0,
       "model_id": "edcaa6e20ff243fab9ae1236852549d5"
      }
     },
     "metadata": {},
     "output_type": "display_data"
    },
    {
     "data": {
      "text/plain": [
       "Evaluating:   0%|          | 0/157 [00:00<?, ?it/s]"
      ],
      "application/vnd.jupyter.widget-view+json": {
       "version_major": 2,
       "version_minor": 0,
       "model_id": "9cbb053785e7408c995c847595b2c7e5"
      }
     },
     "metadata": {},
     "output_type": "display_data"
    },
    {
     "name": "stdout",
     "output_type": "stream",
     "text": [
      "Epoch 1: Train Loss = 0.3043, Train Acc = 0.9064 | Val Loss = 0.0571, Val Acc = 0.9830\n",
      "\n",
      "--- Epoch 2/15 ---\n"
     ]
    },
    {
     "data": {
      "text/plain": [
       "Training:   0%|          | 0/938 [00:00<?, ?it/s]"
      ],
      "application/vnd.jupyter.widget-view+json": {
       "version_major": 2,
       "version_minor": 0,
       "model_id": "d09db2ac54d14849913d2d830d2b6d78"
      }
     },
     "metadata": {},
     "output_type": "display_data"
    },
    {
     "data": {
      "text/plain": [
       "Evaluating:   0%|          | 0/157 [00:00<?, ?it/s]"
      ],
      "application/vnd.jupyter.widget-view+json": {
       "version_major": 2,
       "version_minor": 0,
       "model_id": "54262613e56b44cb9cbf012199050bf7"
      }
     },
     "metadata": {},
     "output_type": "display_data"
    },
    {
     "name": "stdout",
     "output_type": "stream",
     "text": [
      "Epoch 2: Train Loss = 0.1404, Train Acc = 0.9586 | Val Loss = 0.0489, Val Acc = 0.9854\n",
      "\n",
      "--- Epoch 3/15 ---\n"
     ]
    },
    {
     "data": {
      "text/plain": [
       "Training:   0%|          | 0/938 [00:00<?, ?it/s]"
      ],
      "application/vnd.jupyter.widget-view+json": {
       "version_major": 2,
       "version_minor": 0,
       "model_id": "5f1120f25e214784987f1fed6c2f70f7"
      }
     },
     "metadata": {},
     "output_type": "display_data"
    },
    {
     "data": {
      "text/plain": [
       "Evaluating:   0%|          | 0/157 [00:00<?, ?it/s]"
      ],
      "application/vnd.jupyter.widget-view+json": {
       "version_major": 2,
       "version_minor": 0,
       "model_id": "80d92dc427a845a482068cc9e7d5db48"
      }
     },
     "metadata": {},
     "output_type": "display_data"
    },
    {
     "name": "stdout",
     "output_type": "stream",
     "text": [
      "Epoch 3: Train Loss = 0.1149, Train Acc = 0.9650 | Val Loss = 0.0367, Val Acc = 0.9877\n",
      "\n",
      "--- Epoch 4/15 ---\n"
     ]
    },
    {
     "data": {
      "text/plain": [
       "Training:   0%|          | 0/938 [00:00<?, ?it/s]"
      ],
      "application/vnd.jupyter.widget-view+json": {
       "version_major": 2,
       "version_minor": 0,
       "model_id": "a37e4571d4e24d18960c621091991e5d"
      }
     },
     "metadata": {},
     "output_type": "display_data"
    },
    {
     "data": {
      "text/plain": [
       "Evaluating:   0%|          | 0/157 [00:00<?, ?it/s]"
      ],
      "application/vnd.jupyter.widget-view+json": {
       "version_major": 2,
       "version_minor": 0,
       "model_id": "eb21941e81214afc91c00094d92c658d"
      }
     },
     "metadata": {},
     "output_type": "display_data"
    },
    {
     "name": "stdout",
     "output_type": "stream",
     "text": [
      "Epoch 4: Train Loss = 0.1002, Train Acc = 0.9700 | Val Loss = 0.0298, Val Acc = 0.9899\n",
      "\n",
      "--- Epoch 5/15 ---\n"
     ]
    },
    {
     "data": {
      "text/plain": [
       "Training:   0%|          | 0/938 [00:00<?, ?it/s]"
      ],
      "application/vnd.jupyter.widget-view+json": {
       "version_major": 2,
       "version_minor": 0,
       "model_id": "3ae4f1b390374a859f3ff58c08295d0c"
      }
     },
     "metadata": {},
     "output_type": "display_data"
    },
    {
     "data": {
      "text/plain": [
       "Evaluating:   0%|          | 0/157 [00:00<?, ?it/s]"
      ],
      "application/vnd.jupyter.widget-view+json": {
       "version_major": 2,
       "version_minor": 0,
       "model_id": "1c966796d9f5480f8dc8f220e84ea3a2"
      }
     },
     "metadata": {},
     "output_type": "display_data"
    },
    {
     "name": "stdout",
     "output_type": "stream",
     "text": [
      "Epoch 5: Train Loss = 0.0866, Train Acc = 0.9742 | Val Loss = 0.0291, Val Acc = 0.9906\n",
      "\n",
      "--- Epoch 6/15 ---\n"
     ]
    },
    {
     "data": {
      "text/plain": [
       "Training:   0%|          | 0/938 [00:00<?, ?it/s]"
      ],
      "application/vnd.jupyter.widget-view+json": {
       "version_major": 2,
       "version_minor": 0,
       "model_id": "0e37856c67f743ac88fbcf7787c15dce"
      }
     },
     "metadata": {},
     "output_type": "display_data"
    },
    {
     "data": {
      "text/plain": [
       "Evaluating:   0%|          | 0/157 [00:00<?, ?it/s]"
      ],
      "application/vnd.jupyter.widget-view+json": {
       "version_major": 2,
       "version_minor": 0,
       "model_id": "6a7b948e94924dce9ff30b1785f13b6c"
      }
     },
     "metadata": {},
     "output_type": "display_data"
    },
    {
     "name": "stdout",
     "output_type": "stream",
     "text": [
      "Epoch 6: Train Loss = 0.0805, Train Acc = 0.9759 | Val Loss = 0.0274, Val Acc = 0.9911\n",
      "\n",
      "--- Epoch 7/15 ---\n"
     ]
    },
    {
     "data": {
      "text/plain": [
       "Training:   0%|          | 0/938 [00:00<?, ?it/s]"
      ],
      "application/vnd.jupyter.widget-view+json": {
       "version_major": 2,
       "version_minor": 0,
       "model_id": "4f4f7acd3aba4fbbb2010ca2465c7b17"
      }
     },
     "metadata": {},
     "output_type": "display_data"
    },
    {
     "data": {
      "text/plain": [
       "Evaluating:   0%|          | 0/157 [00:00<?, ?it/s]"
      ],
      "application/vnd.jupyter.widget-view+json": {
       "version_major": 2,
       "version_minor": 0,
       "model_id": "97746f18f8c048269867171ab585641e"
      }
     },
     "metadata": {},
     "output_type": "display_data"
    },
    {
     "name": "stdout",
     "output_type": "stream",
     "text": [
      "Epoch 7: Train Loss = 0.0731, Train Acc = 0.9787 | Val Loss = 0.0234, Val Acc = 0.9919\n",
      "\n",
      "--- Epoch 8/15 ---\n"
     ]
    },
    {
     "data": {
      "text/plain": [
       "Training:   0%|          | 0/938 [00:00<?, ?it/s]"
      ],
      "application/vnd.jupyter.widget-view+json": {
       "version_major": 2,
       "version_minor": 0,
       "model_id": "68c2b70f4546444ca9d22454dc57c266"
      }
     },
     "metadata": {},
     "output_type": "display_data"
    },
    {
     "data": {
      "text/plain": [
       "Evaluating:   0%|          | 0/157 [00:00<?, ?it/s]"
      ],
      "application/vnd.jupyter.widget-view+json": {
       "version_major": 2,
       "version_minor": 0,
       "model_id": "142d43c7b52e4b4dbd99f83df055fa1d"
      }
     },
     "metadata": {},
     "output_type": "display_data"
    },
    {
     "name": "stdout",
     "output_type": "stream",
     "text": [
      "Epoch 8: Train Loss = 0.0656, Train Acc = 0.9797 | Val Loss = 0.0297, Val Acc = 0.9907\n",
      "\n",
      "--- Epoch 9/15 ---\n"
     ]
    },
    {
     "data": {
      "text/plain": [
       "Training:   0%|          | 0/938 [00:00<?, ?it/s]"
      ],
      "application/vnd.jupyter.widget-view+json": {
       "version_major": 2,
       "version_minor": 0,
       "model_id": "352ba6341b674d2fb84036361ae6f94a"
      }
     },
     "metadata": {},
     "output_type": "display_data"
    },
    {
     "data": {
      "text/plain": [
       "Evaluating:   0%|          | 0/157 [00:00<?, ?it/s]"
      ],
      "application/vnd.jupyter.widget-view+json": {
       "version_major": 2,
       "version_minor": 0,
       "model_id": "48dd887af2fc436bb7105e5514772a19"
      }
     },
     "metadata": {},
     "output_type": "display_data"
    },
    {
     "name": "stdout",
     "output_type": "stream",
     "text": [
      "Epoch 9: Train Loss = 0.0619, Train Acc = 0.9816 | Val Loss = 0.0248, Val Acc = 0.9924\n",
      "\n",
      "--- Epoch 10/15 ---\n"
     ]
    },
    {
     "data": {
      "text/plain": [
       "Training:   0%|          | 0/938 [00:00<?, ?it/s]"
      ],
      "application/vnd.jupyter.widget-view+json": {
       "version_major": 2,
       "version_minor": 0,
       "model_id": "4c9f6096a6ef4a14aa5628d3f40fe538"
      }
     },
     "metadata": {},
     "output_type": "display_data"
    },
    {
     "data": {
      "text/plain": [
       "Evaluating:   0%|          | 0/157 [00:00<?, ?it/s]"
      ],
      "application/vnd.jupyter.widget-view+json": {
       "version_major": 2,
       "version_minor": 0,
       "model_id": "b46e29aed7c64618a97234a4db998690"
      }
     },
     "metadata": {},
     "output_type": "display_data"
    },
    {
     "name": "stdout",
     "output_type": "stream",
     "text": [
      "Epoch 10: Train Loss = 0.0577, Train Acc = 0.9822 | Val Loss = 0.0254, Val Acc = 0.9924\n",
      "\n",
      "--- Epoch 11/15 ---\n"
     ]
    },
    {
     "data": {
      "text/plain": [
       "Training:   0%|          | 0/938 [00:00<?, ?it/s]"
      ],
      "application/vnd.jupyter.widget-view+json": {
       "version_major": 2,
       "version_minor": 0,
       "model_id": "e5f23dc98b2f406da4954fb7251a9261"
      }
     },
     "metadata": {},
     "output_type": "display_data"
    },
    {
     "data": {
      "text/plain": [
       "Evaluating:   0%|          | 0/157 [00:00<?, ?it/s]"
      ],
      "application/vnd.jupyter.widget-view+json": {
       "version_major": 2,
       "version_minor": 0,
       "model_id": "7aa834e6c4fa414f81af5abd373e2427"
      }
     },
     "metadata": {},
     "output_type": "display_data"
    },
    {
     "name": "stdout",
     "output_type": "stream",
     "text": [
      "Epoch 11: Train Loss = 0.0551, Train Acc = 0.9834 | Val Loss = 0.0221, Val Acc = 0.9935\n",
      "\n",
      "--- Epoch 12/15 ---\n"
     ]
    },
    {
     "data": {
      "text/plain": [
       "Training:   0%|          | 0/938 [00:00<?, ?it/s]"
      ],
      "application/vnd.jupyter.widget-view+json": {
       "version_major": 2,
       "version_minor": 0,
       "model_id": "4e7e849e2ff344ea9af34d74d3e5b0d4"
      }
     },
     "metadata": {},
     "output_type": "display_data"
    },
    {
     "data": {
      "text/plain": [
       "Evaluating:   0%|          | 0/157 [00:00<?, ?it/s]"
      ],
      "application/vnd.jupyter.widget-view+json": {
       "version_major": 2,
       "version_minor": 0,
       "model_id": "32094c4f6bcf484f98dd845e1b73692a"
      }
     },
     "metadata": {},
     "output_type": "display_data"
    },
    {
     "name": "stdout",
     "output_type": "stream",
     "text": [
      "Epoch 12: Train Loss = 0.0539, Train Acc = 0.9834 | Val Loss = 0.0226, Val Acc = 0.9927\n",
      "\n",
      "--- Epoch 13/15 ---\n"
     ]
    },
    {
     "data": {
      "text/plain": [
       "Training:   0%|          | 0/938 [00:00<?, ?it/s]"
      ],
      "application/vnd.jupyter.widget-view+json": {
       "version_major": 2,
       "version_minor": 0,
       "model_id": "4b84e32e519040cc847920a78c426bce"
      }
     },
     "metadata": {},
     "output_type": "display_data"
    },
    {
     "data": {
      "text/plain": [
       "Evaluating:   0%|          | 0/157 [00:00<?, ?it/s]"
      ],
      "application/vnd.jupyter.widget-view+json": {
       "version_major": 2,
       "version_minor": 0,
       "model_id": "67f4e66559f1414d8203e830e22b750f"
      }
     },
     "metadata": {},
     "output_type": "display_data"
    },
    {
     "name": "stdout",
     "output_type": "stream",
     "text": [
      "Epoch 13: Train Loss = 0.0506, Train Acc = 0.9842 | Val Loss = 0.0218, Val Acc = 0.9926\n",
      "\n",
      "--- Epoch 14/15 ---\n"
     ]
    },
    {
     "data": {
      "text/plain": [
       "Training:   0%|          | 0/938 [00:00<?, ?it/s]"
      ],
      "application/vnd.jupyter.widget-view+json": {
       "version_major": 2,
       "version_minor": 0,
       "model_id": "2d6d7ce75f3543dbbbc71599ed2a8ce9"
      }
     },
     "metadata": {},
     "output_type": "display_data"
    },
    {
     "data": {
      "text/plain": [
       "Evaluating:   0%|          | 0/157 [00:00<?, ?it/s]"
      ],
      "application/vnd.jupyter.widget-view+json": {
       "version_major": 2,
       "version_minor": 0,
       "model_id": "9d151c71074844d386ee3c3a86da93cc"
      }
     },
     "metadata": {},
     "output_type": "display_data"
    },
    {
     "name": "stdout",
     "output_type": "stream",
     "text": [
      "Epoch 14: Train Loss = 0.0468, Train Acc = 0.9854 | Val Loss = 0.0215, Val Acc = 0.9937\n",
      "\n",
      "--- Epoch 15/15 ---\n"
     ]
    },
    {
     "data": {
      "text/plain": [
       "Training:   0%|          | 0/938 [00:00<?, ?it/s]"
      ],
      "application/vnd.jupyter.widget-view+json": {
       "version_major": 2,
       "version_minor": 0,
       "model_id": "d25cbc1015cb43f58425bc6928ee8563"
      }
     },
     "metadata": {},
     "output_type": "display_data"
    },
    {
     "data": {
      "text/plain": [
       "Evaluating:   0%|          | 0/157 [00:00<?, ?it/s]"
      ],
      "application/vnd.jupyter.widget-view+json": {
       "version_major": 2,
       "version_minor": 0,
       "model_id": "8eb9ec9fdb91449b824d51bdeec5fcbf"
      }
     },
     "metadata": {},
     "output_type": "display_data"
    },
    {
     "name": "stdout",
     "output_type": "stream",
     "text": [
      "Epoch 15: Train Loss = 0.0465, Train Acc = 0.9853 | Val Loss = 0.0191, Val Acc = 0.9939\n",
      "\n",
      "Pelatihan selesai!\n"
     ]
    }
   ],
   "execution_count": 6
  },
  {
   "metadata": {},
   "cell_type": "markdown",
   "source": "## Visualisasi dan Analisis Hasil"
  },
  {
   "cell_type": "code",
   "source": [
    "plt.figure(figsize=(12, 5))\n",
    "\n",
    "plt.subplot(1, 2, 1)\n",
    "plt.plot(range(1, NUM_EPOCHS + 1), train_accuracies, label='Training Accuracy')\n",
    "plt.plot(range(1, NUM_EPOCHS + 1), val_accuracies, label='Validation Accuracy')\n",
    "plt.title('Akurasi Pelatihan dan Validasi')\n",
    "plt.xlabel('Epoch')\n",
    "plt.ylabel('Akurasi')\n",
    "plt.legend()\n",
    "plt.grid(True)\n",
    "\n",
    "plt.subplot(1, 2, 2)\n",
    "plt.plot(range(1, NUM_EPOCHS + 1), train_losses, label='Training Loss')\n",
    "plt.plot(range(1, NUM_EPOCHS + 1), val_losses, label='Validation Loss')\n",
    "plt.title('Loss Pelatihan dan Validasi')\n",
    "plt.xlabel('Epoch')\n",
    "plt.ylabel('Loss')\n",
    "plt.legend()\n",
    "plt.grid(True)\n",
    "\n",
    "plt.tight_layout()\n",
    "plt.show()\n",
    "\n",
    "print(\"\\n--- Confusion Matrix ---\")\n",
    "\n",
    "final_val_loss, final_val_acc, all_preds, all_targets = evaluate_epoch(model, test_loader, criterion, DEVICE)\n",
    "\n",
    "cm = confusion_matrix(all_targets, all_preds)\n",
    "\n",
    "plt.figure(figsize=(10, 8))\n",
    "sns.heatmap(cm, annot=True, fmt='d', cmap='Blues', cbar=False,\n",
    "            xticklabels=[str(i) for i in range(10)],\n",
    "            yticklabels=[str(i) for i in range(10)])\n",
    "plt.xlabel('Label Prediksi')\n",
    "plt.ylabel('Label Sebenarnya')\n",
    "plt.title('Confusion Matrix')\n",
    "plt.show()\n",
    "\n",
    "print(\"\\n--- Contoh Gambar yang Salah Diklasifikasikan ---\")\n",
    "model.eval()\n",
    "misclassified_images = []\n",
    "misclassified_labels = []\n",
    "misclassified_preds = []\n",
    "\n",
    "with torch.no_grad():\n",
    "    for data, target in test_loader:\n",
    "        data, target = data.to(DEVICE), target.to(DEVICE)\n",
    "        output = model(data)\n",
    "        _, predicted = torch.max(output.data, 1)\n",
    "\n",
    "\n",
    "        incorrect_indices = (predicted != target).nonzero(as_tuple=True)[0]\n",
    "        for idx in incorrect_indices:\n",
    "            if len(misclassified_images) < 10:\n",
    "\n",
    "                misclassified_images.append(data[idx].cpu().squeeze().numpy())\n",
    "                misclassified_labels.append(target[idx].item())\n",
    "                misclassified_preds.append(predicted[idx].item())\n",
    "            else:\n",
    "                break\n",
    "        if len(misclassified_images) >= 10:\n",
    "            break\n",
    "\n",
    "if misclassified_images:\n",
    "    plt.figure(figsize=(10, 4))\n",
    "    for i, (image, true_label, pred_label) in enumerate(zip(misclassified_images, misclassified_labels, misclassified_preds)):\n",
    "        plt.subplot(2, 5, i + 1)\n",
    "        plt.imshow(image, cmap='gray')\n",
    "\n",
    "        plt.title(f'True: {true_label}\\nPred: {pred_label}', color='red' if true_label != pred_label else 'black')\n",
    "        plt.axis('off') # Sembunyikan sumbu\n",
    "    plt.suptitle('Contoh Gambar yang Salah Diklasifikasikan', fontsize=16)\n",
    "    plt.tight_layout(rect=[0, 0.03, 1, 0.95])\n",
    "    plt.show()\n",
    "else:\n",
    "    print(\"Tidak ada gambar yang salah diklasifikasikan yang ditemukan (atau model sudah sempurna).\")"
   ],
   "metadata": {
    "ExecuteTime": {
     "end_time": "2025-05-20T13:39:20.094782Z",
     "start_time": "2025-05-20T13:39:07.142729Z"
    }
   },
   "outputs": [
    {
     "data": {
      "text/plain": [
       "<Figure size 1200x500 with 2 Axes>"
      ],
      "image/png": "[encoded data removed]"
     },
     "metadata": {},
     "output_type": "display_data"
    },
    {
     "name": "stdout",
     "output_type": "stream",
     "text": [
      "\n",
      "--- Confusion Matrix ---\n"
     ]
    },
    {
     "data": {
      "text/plain": [
       "Evaluating:   0%|          | 0/157 [00:00<?, ?it/s]"
      ],
      "application/vnd.jupyter.widget-view+json": {
       "version_major": 2,
       "version_minor": 0,
       "model_id": "ded1873a24df4892b2f43a54aa7b1eaa"
      }
     },
     "metadata": {},
     "output_type": "display_data"
    },
    {
     "data": {
      "text/plain": [
       "<Figure size 1000x800 with 1 Axes>"
      ],
      "image/png": "[encoded data removed]"
     },
     "metadata": {},
     "output_type": "display_data"
    },
    {
     "name": "stdout",
     "output_type": "stream",
     "text": [
      "\n",
      "--- Contoh Gambar yang Salah Diklasifikasikan ---\n"
     ]
    },
    {
     "data": {
      "text/plain": [
       "<Figure size 1000x400 with 10 Axes>"
      ],
      "image/png": "[encoded data removed]"
     },
     "metadata": {},
     "output_type": "display_data"
    }
   ],
   "execution_count": 7
  }
 ]
}
