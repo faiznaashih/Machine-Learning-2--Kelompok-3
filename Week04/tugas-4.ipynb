{
 "cells": [
  {
   "cell_type": "code",
   "id": "initial_id",
   "metadata": {
    "collapsed": true,
    "ExecuteTime": {
     "end_time": "2025-05-20T14:15:43.506183Z",
     "start_time": "2025-05-20T14:14:50.013057Z"
    }
   },
   "source": [
    "import torch\n",
    "from torch.utils.data import Dataset, DataLoader\n",
    "import torch.nn as nn\n",
    "import torch.optim as optim\n",
    "from torchvision import transforms\n",
    "from torchvision.models import resnet18,ResNet18_Weights\n",
    "import os\n",
    "import glob\n",
    "from PIL import Image\n",
    "from tqdm import tqdm\n",
    "import matplotlib.pyplot as plt\n"
   ],
   "outputs": [],
   "execution_count": 1
  },
  {
   "metadata": {
    "ExecuteTime": {
     "end_time": "2025-05-20T14:15:52.466959Z",
     "start_time": "2025-05-20T14:15:52.459522Z"
    }
   },
   "cell_type": "code",
   "source": [
    "class KucingAnjingDataset(Dataset):\n",
    "\n",
    "\tdef __init__(self, root_dir, random_seed=42, image_size=224):\n",
    "\n",
    "\t\tself.root_dir = root_dir\n",
    "\t\tself.image_size = image_size\n",
    "\n",
    "\t\tif not os.path.exists(self.root_dir):\n",
    "\t\t\traise RuntimeError(f\"Dataset not found at {self.root_dir}.\")\n",
    "\n",
    "\n",
    "\t\tself.transform = transforms.Compose([\n",
    "        \ttransforms.Resize((self.image_size, self.image_size)),\n",
    "        \ttransforms.ToTensor(),\n",
    "        \ttransforms.Normalize([0.485, 0.456, 0.406], [0.229, 0.224, 0.225])\n",
    "        ])\n",
    "\n",
    "\t\tself.data = []\n",
    "\t\tself.labels = []\n",
    "\n",
    "\t\tfor label, class_name in tqdm(enumerate(['cats','dogs'])):\n",
    "\t\t\tclass_dir = os.path.join(self.root_dir, class_name)\n",
    "\t\t\timage_paths = glob.glob(os.path.join(class_dir,'*.jpg'))\n",
    "\t\t\tself.data.extend(image_paths)\n",
    "\t\t\tself.labels.extend([label] * len(image_paths))\n",
    "\n",
    "\tdef __len__(self):\n",
    "\t\treturn len(self.data)\n",
    "\n",
    "\tdef __getitem__(self, idx):\n",
    "\t\timage_path = self.data[idx]\n",
    "\t\tlabel = self.labels[idx]\n",
    "\t\timage = Image.open(image_path).convert('RGB')\n",
    "\n",
    "\t\tif self.transform:\n",
    "\t\t\timage = self.transform(image)\n",
    "\n",
    "\t\treturn image, label"
   ],
   "id": "a1dba8d18e8f3310",
   "outputs": [],
   "execution_count": 2
  },
  {
   "metadata": {
    "ExecuteTime": {
     "end_time": "2025-05-20T14:27:53.765011Z",
     "start_time": "2025-05-20T14:27:43.915684Z"
    }
   },
   "cell_type": "code",
   "source": [
    "batch_size = 32\n",
    "test_batch_size = 32\n",
    "train_dataset = KucingAnjingDataset(root_dir='dataset/Week04/train')\n",
    "test_dataset  = KucingAnjingDataset(root_dir='dataset/Week04/test')\n",
    "\n",
    "train_loader = DataLoader(train_dataset, batch_size=batch_size, shuffle=True)\n",
    "test_loader  = DataLoader(test_dataset, batch_size=test_batch_size, shuffle=False)\n",
    "\n",
    "device = torch.device(\"cuda\" if torch.cuda.is_available() else \"cpu\")\n",
    "\n",
    "model = resnet18(weights=ResNet18_Weights.DEFAULT)\n",
    "num_features = model.fc.in_features\n",
    "model.fc = nn.Linear(num_features, len(train_dataset))\n",
    "model = model.to(device)\n",
    "\n",
    "criterion = nn.CrossEntropyLoss()\n",
    "optimizer = optim.Adam(model.parameters(), lr=1e-4)"
   ],
   "id": "b0b215cb1bf12b6",
   "outputs": [
    {
     "name": "stderr",
     "output_type": "stream",
     "text": [
      "2it [00:00, 399.97it/s]\n",
      "2it [00:00, 1000.43it/s]\n"
     ]
    },
    {
     "name": "stdout",
     "output_type": "stream",
     "text": [
      "Downloading: \"https://download.pytorch.org/models/resnet18-f37072fd.pth\" to C:\\Users\\mrcah/.cache\\torch\\hub\\checkpoints\\resnet18-f37072fd.pth\n"
     ]
    },
    {
     "name": "stderr",
     "output_type": "stream",
     "text": [
      "100%|██████████| 44.7M/44.7M [00:09<00:00, 5.16MB/s]\n"
     ]
    }
   ],
   "execution_count": 7
  },
  {
   "metadata": {
    "ExecuteTime": {
     "end_time": "2025-05-20T14:28:14.657481Z",
     "start_time": "2025-05-20T14:28:14.647693Z"
    }
   },
   "cell_type": "code",
   "source": [
    "total_params = sum(p.numel() for p in model.parameters())\n",
    "trainable_params = sum(p.numel() for p in model.parameters() if p.requires_grad)\n",
    "\n",
    "print(f\"Total parameters: {total_params / 1e6:.2f}M\")\n",
    "print(f\"Trainable parameters: {trainable_params / 1e6:.2f}M\")"
   ],
   "id": "8f1c30c0fdf36ee4",
   "outputs": [
    {
     "name": "stdout",
     "output_type": "stream",
     "text": [
      "Total parameters: 11.46M\n",
      "Trainable parameters: 11.46M\n"
     ]
    }
   ],
   "execution_count": 8
  }
 ],
 "metadata": {
  "kernelspec": {
   "display_name": "Python 3",
   "language": "python",
   "name": "python3"
  },
  "language_info": {
   "codemirror_mode": {
    "name": "ipython",
    "version": 2
   },
   "file_extension": ".py",
   "mimetype": "text/x-python",
   "name": "python",
   "nbconvert_exporter": "python",
   "pygments_lexer": "ipython2",
   "version": "2.7.6"
  }
 },
 "nbformat": 4,
 "nbformat_minor": 5
}
